{
 "cells": [
  {
   "cell_type": "code",
   "execution_count": 1,
   "metadata": {},
   "outputs": [],
   "source": [
    "class circle():\n",
    "    # class object attribute! \n",
    "    # that will same for all objects of the class\n",
    "    pi = 3.14\n",
    "    \n",
    "    # this method is special method!\n",
    "    # it is like contructor!\n",
    "    # the name will be same in any of the classes\n",
    "    # the self keyword will link to the class\n",
    "    def __init__(self,r=1):\n",
    "        # to access the data members of the class, we need to use 'self.' keyeord as shown below!\n",
    "        self.r=r\n",
    "    \n",
    "    # this is the member function of the class!\n",
    "    # for every function or method of the class is having self keyword at first in the parameter, \n",
    "    # it saws that the func is refering to the class as well!\n",
    "    def area(self,string):\n",
    "        # the string is the parameter of the func,is expecting from user!\n",
    "        # it is not refering to the class atribute, so we don`t need to use self keyword!\n",
    "        # for the class object attribute we are using 'class_name.atribute_name' to access it!\n",
    "        print (string)\n",
    "        return (circle.pi * self.r * self.r)"
   ]
  },
  {
   "cell_type": "code",
   "execution_count": 2,
   "metadata": {},
   "outputs": [],
   "source": [
    "unit_circle = circle()\n",
    "big_circle = circle(10)"
   ]
  },
  {
   "cell_type": "code",
   "execution_count": 3,
   "metadata": {},
   "outputs": [
    {
     "name": "stdout",
     "output_type": "stream",
     "text": [
      "1\n",
      "10\n"
     ]
    }
   ],
   "source": [
    "print(unit_circle.r)\n",
    "print(big_circle.r)"
   ]
  },
  {
   "cell_type": "code",
   "execution_count": 4,
   "metadata": {},
   "outputs": [
    {
     "name": "stdout",
     "output_type": "stream",
     "text": [
      "It`s unit circle area\n",
      "3.14\n",
      "It`s big circle are\n",
      "314.0\n"
     ]
    }
   ],
   "source": [
    "print(unit_circle.area('It`s unit circle area'))\n",
    "print(big_circle.area('It`s big circle are'))"
   ]
  },
  {
   "cell_type": "code",
   "execution_count": 5,
   "metadata": {},
   "outputs": [],
   "source": [
    "# conceot of inheritance , polyorphism , soecial methos you can see in the notebook"
   ]
  },
  {
   "cell_type": "code",
   "execution_count": null,
   "metadata": {},
   "outputs": [],
   "source": []
  }
 ],
 "metadata": {
  "kernelspec": {
   "display_name": "Python 3",
   "language": "python",
   "name": "python3"
  },
  "language_info": {
   "codemirror_mode": {
    "name": "ipython",
    "version": 3
   },
   "file_extension": ".py",
   "mimetype": "text/x-python",
   "name": "python",
   "nbconvert_exporter": "python",
   "pygments_lexer": "ipython3",
   "version": "3.6.4"
  }
 },
 "nbformat": 4,
 "nbformat_minor": 2
}

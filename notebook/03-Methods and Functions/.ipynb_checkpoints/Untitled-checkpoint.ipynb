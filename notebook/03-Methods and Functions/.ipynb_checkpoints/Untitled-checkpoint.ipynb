{
 "cells": [
  {
   "cell_type": "code",
   "execution_count": 2,
   "metadata": {},
   "outputs": [],
   "source": [
    "#                                          Methods and Function"
   ]
  },
  {
   "cell_type": "code",
   "execution_count": 4,
   "metadata": {},
   "outputs": [],
   "source": [
    "#                                               Methods\n",
    "# append\n",
    "# count\n",
    "# extend\n",
    "# insert\n",
    "# pop\n",
    "# remove\n",
    "# reverse\n",
    "# sort\n",
    "\n",
    "# append-  append(...) method of builtins.list instance\n",
    "#                       L.append(object) -> None -- append object to end\n",
    "\n",
    "# count-   count(...) method of builtins.list instance\n",
    "#                       L.count(value) -> integer -- return number of occurrences of value\n",
    "\n",
    "# extend-  extend(...) method of builtins.list instance\n",
    "#                       L.extend(iterable) -> None -- extend list by appending elements from the iterable\n",
    "\n",
    "# insert-  insert(...) method of builtins.list instance\n",
    "#                       L.insert(index, object) -- insert object before index\n",
    "\n",
    "# pop-     pop(...) method of builtins.list instance\n",
    "#                       L.pop([index]) -> item -- remove and return item at index (default last).\n",
    "#                       Raises IndexError if list is empty or index is out of range.\n",
    "\n",
    "# remove-  remove(...) method of builtins.list instance\n",
    "#                       L.remove(value) -> None -- remove first occurrence of value.\n",
    "#                       Raises ValueError if the value is not present.\n",
    "\n",
    "# reverse- reverse(...) method of builtins.list instance\n",
    "#                       L.reverse() -- reverse *IN PLACE*\n",
    "\n",
    "# sort-    sort(...) method of builtins.list instance\n",
    "#                       L.sort(key=None, reverse=False) -> None -- stable sort *IN PLACE*\n",
    "\n"
   ]
  },
  {
   "cell_type": "code",
   "execution_count": 5,
   "metadata": {},
   "outputs": [],
   "source": [
    "#                                         Lambda Expressions"
   ]
  },
  {
   "cell_type": "code",
   "execution_count": 6,
   "metadata": {},
   "outputs": [],
   "source": [
    "#                                   Nested statement and scope"
   ]
  },
  {
   "cell_type": "code",
   "execution_count": 7,
   "metadata": {},
   "outputs": [],
   "source": [
    "#                                      args and kwargs"
   ]
  }
 ],
 "metadata": {
  "kernelspec": {
   "display_name": "Python 3",
   "language": "python",
   "name": "python3"
  },
  "language_info": {
   "codemirror_mode": {
    "name": "ipython",
    "version": 3
   },
   "file_extension": ".py",
   "mimetype": "text/x-python",
   "name": "python",
   "nbconvert_exporter": "python",
   "pygments_lexer": "ipython3",
   "version": "3.6.4"
  }
 },
 "nbformat": 4,
 "nbformat_minor": 2
}

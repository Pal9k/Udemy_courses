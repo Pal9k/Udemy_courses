{
 "cells": [
  {
   "cell_type": "code",
   "execution_count": 10,
   "metadata": {},
   "outputs": [],
   "source": [
    "#                                             Python Statements"
   ]
  },
  {
   "cell_type": "code",
   "execution_count": 9,
   "metadata": {},
   "outputs": [
    {
     "name": "stdout",
     "output_type": "stream",
     "text": [
      "(2, 4)\n",
      "(6, 8)\n",
      "(10, 12)\n",
      "tupple unpacking\n",
      "2\n",
      "6\n",
      "10\n",
      "Dictoinory unpacking\n",
      "printing keys\n",
      "k1\n",
      "k2\n",
      "k3\n",
      "printing values\n",
      "k1\n",
      "1\n",
      "k2\n",
      "2\n",
      "k3\n",
      "3\n"
     ]
    }
   ],
   "source": [
    "#                                             For Loops\n",
    "#                                             unpacking\n",
    "list2 = [(2,4),(6,8),(10,12)]\n",
    "\n",
    "for tup in list2:\n",
    "    print(tup)\n",
    "    \n",
    "print (\"tupple unpacking\")\n",
    "\n",
    "for (t1,t2) in list2:\n",
    "    print(t1)\n",
    "    \n",
    "print (\"Dictoinory unpacking\")\n",
    "d = {'k1':1,'k2':2,'k3':3}\n",
    "\n",
    "print (\"printing keys\")\n",
    "for item in d:\n",
    "    print(item)\n",
    "    \n",
    "print (\"printing values\")\n",
    "for k,v in d.items():\n",
    "    print(k)\n",
    "    print(v) "
   ]
  },
  {
   "cell_type": "code",
   "execution_count": 12,
   "metadata": {},
   "outputs": [],
   "source": [
    "#                                              Usefull operators\n",
    "# see in the notebook\n",
    "# rang\n",
    "# enumerate\n",
    "# zip\n",
    "# in\n",
    "# min & max\n",
    "# random\n",
    "# input"
   ]
  },
  {
   "cell_type": "code",
   "execution_count": 14,
   "metadata": {},
   "outputs": [],
   "source": [
    "#                                             list comprehensions\n",
    "# no ssly need to see"
   ]
  },
  {
   "cell_type": "code",
   "execution_count": null,
   "metadata": {},
   "outputs": [],
   "source": []
  }
 ],
 "metadata": {
  "kernelspec": {
   "display_name": "Python 3",
   "language": "python",
   "name": "python3"
  },
  "language_info": {
   "codemirror_mode": {
    "name": "ipython",
    "version": 3
   },
   "file_extension": ".py",
   "mimetype": "text/x-python",
   "name": "python",
   "nbconvert_exporter": "python",
   "pygments_lexer": "ipython3",
   "version": "3.6.4"
  }
 },
 "nbformat": 4,
 "nbformat_minor": 2
}

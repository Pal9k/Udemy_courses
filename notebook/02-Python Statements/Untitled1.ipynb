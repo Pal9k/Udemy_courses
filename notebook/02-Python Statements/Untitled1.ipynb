{
 "cells": [
  {
   "cell_type": "code",
   "execution_count": 1,
   "metadata": {},
   "outputs": [],
   "source": [
    "from random import randint"
   ]
  },
  {
   "cell_type": "code",
   "execution_count": 8,
   "metadata": {},
   "outputs": [
    {
     "name": "stdout",
     "output_type": "stream",
     "text": [
      "111\n",
      "OUT OF BOUND!\n",
      "23\n",
      "COLDER!\n",
      "45\n",
      "WARMER!\n",
      "56\n",
      "WARMER!\n",
      "67\n",
      "WARMER!\n",
      "78\n",
      "WARMER!\n",
      "89\n",
      "COLDER!\n",
      "82\n",
      "WARMER!\n",
      "85\n",
      "COLDER!\n",
      "80\n",
      "WARMER!\n",
      "79\n",
      "WARMER!\n",
      "77\n",
      "WARMER!\n",
      "76\n",
      "WARMER!\n",
      "75\n",
      "WARMER!\n",
      "74\n",
      "You guess correctly!\n",
      "taken 15 steps\n"
     ]
    }
   ],
   "source": [
    "random=randint(1,100)\n",
    "cnt=0\n",
    "guess_list=[]\n",
    "\n",
    "while True:\n",
    "    guess=int(input())\n",
    "    cnt+=1\n",
    "    guess_list.append(guess)\n",
    "    if guess<1 or guess>100:\n",
    "        print(\"OUT OF BOUND!\")\n",
    "    elif guess==random:\n",
    "        print(\"You guess correctly!\")\n",
    "        print(\"taken {} steps\".format(cnt))\n",
    "        break\n",
    "    elif cnt==1:\n",
    "        if abs(random-guess)<=10:\n",
    "            print (\"WARM!\")\n",
    "        else:\n",
    "            print (\"COLD!\")\n",
    "    else:\n",
    "        if abs(random-guess)<=abs(random-guess_list[-2]):\n",
    "            print (\"WARMER!\")\n",
    "        else:\n",
    "            print (\"COLDER!\")"
   ]
  },
  {
   "cell_type": "code",
   "execution_count": null,
   "metadata": {},
   "outputs": [],
   "source": []
  },
  {
   "cell_type": "code",
   "execution_count": null,
   "metadata": {},
   "outputs": [],
   "source": []
  }
 ],
 "metadata": {
  "kernelspec": {
   "display_name": "Python 3",
   "language": "python",
   "name": "python3"
  },
  "language_info": {
   "codemirror_mode": {
    "name": "ipython",
    "version": 3
   },
   "file_extension": ".py",
   "mimetype": "text/x-python",
   "name": "python",
   "nbconvert_exporter": "python",
   "pygments_lexer": "ipython3",
   "version": "3.6.4"
  }
 },
 "nbformat": 4,
 "nbformat_minor": 2
}

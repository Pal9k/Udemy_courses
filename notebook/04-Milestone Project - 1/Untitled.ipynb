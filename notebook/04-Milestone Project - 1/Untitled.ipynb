{
 "cells": [
  {
   "cell_type": "code",
   "execution_count": 1,
   "metadata": {},
   "outputs": [],
   "source": [
    "#                                       Tic-Toc-Toe game\n",
    "#                                       First Milestone Project"
   ]
  },
  {
   "cell_type": "code",
   "execution_count": 2,
   "metadata": {},
   "outputs": [],
   "source": [
    "from IPython.display import clear_output"
   ]
  },
  {
   "cell_type": "code",
   "execution_count": 3,
   "metadata": {},
   "outputs": [],
   "source": [
    "# board_list is use to check if player wins !\n",
    "# char is use to store marker of both player(x/o)\n",
    "board_list = ['@',' ',' ',' ',' ',' ',' ',' ',' ',' ']\n",
    "char=['@',' ',' ']"
   ]
  },
  {
   "cell_type": "code",
   "execution_count": 4,
   "metadata": {},
   "outputs": [],
   "source": [
    "# this function is use to print the board\n",
    "def print_board():\n",
    "    global board_list\n",
    "    clear_output()\n",
    "    pos_list=[' ']*10\n",
    "    \n",
    "    # Initialize position list to display which place is empty\n",
    "    for char in range(1,10):\n",
    "        if board_list[char]==' ':\n",
    "            pos_list[char]=char\n",
    "        else:\n",
    "            pos_list[char]=' '\n",
    "    \n",
    "    print (\"{}|{}|{}             {}|{}|{}\".format(pos_list[1],pos_list[2],pos_list[3],board_list[1],board_list[2],board_list[3]))\n",
    "    print (\"-----             -----\")\n",
    "    print (\"{}|{}|{}             {}|{}|{}\".format(pos_list[4],pos_list[5],pos_list[6],board_list[4],board_list[5],board_list[6]))\n",
    "    print (\"-----             -----\")\n",
    "    print (\"{}|{}|{}             {}|{}|{}\".format(pos_list[7],pos_list[8],pos_list[9],board_list[7],board_list[8],board_list[9]))"
   ]
  },
  {
   "cell_type": "code",
   "execution_count": 5,
   "metadata": {},
   "outputs": [],
   "source": [
    "# this function is use to check if any player wins or not!\n",
    "def check():\n",
    "    global board_list\n",
    "    if check_parallel() == True:\n",
    "        return True\n",
    "    if check_verticle() == True:\n",
    "        return True\n",
    "    if check_diagonal() == True:\n",
    "        return True\n",
    "    return False"
   ]
  },
  {
   "cell_type": "code",
   "execution_count": 6,
   "metadata": {},
   "outputs": [],
   "source": [
    "# this function is use to check for the raw!\n",
    "def check_parallel():\n",
    "    global board_list\n",
    "    if (board_list[1]==board_list[2]==board_list[3]) and board_list[1]!=' ':\n",
    "        return True\n",
    "    if (board_list[4]==board_list[5]==board_list[6]) and board_list[4]!=' ':\n",
    "        return True\n",
    "    if (board_list[7]==board_list[8]==board_list[9]) and board_list[7]!=' ':\n",
    "        return True\n",
    "    return False"
   ]
  },
  {
   "cell_type": "code",
   "execution_count": 7,
   "metadata": {},
   "outputs": [],
   "source": [
    "# this func is use to check for coloum!\n",
    "def check_verticle():\n",
    "    global board_list\n",
    "    if (board_list[1]==board_list[4]==board_list[7]) and board_list[1]!=' ':\n",
    "        return True\n",
    "    if (board_list[2]==board_list[5]==board_list[8]) and board_list[2]!=' ':\n",
    "        return True\n",
    "    if (board_list[3]==board_list[6]==board_list[9]) and board_list[3]!=' ':\n",
    "        return True\n",
    "    return False"
   ]
  },
  {
   "cell_type": "code",
   "execution_count": 8,
   "metadata": {},
   "outputs": [],
   "source": [
    "# this func is use to check for diagonals!\n",
    "def check_diagonal():\n",
    "    global board_list\n",
    "    if (board_list[3]==board_list[5]==board_list[7]) and board_list[3]!=' ':\n",
    "        return True\n",
    "    if (board_list[1]==board_list[5]==board_list[9]) and board_list[1]!=' ':\n",
    "        return True\n",
    "    return False"
   ]
  },
  {
   "cell_type": "code",
   "execution_count": 9,
   "metadata": {},
   "outputs": [],
   "source": [
    "# this func checks the given position in board is already having maek or not!\n",
    "def check_occ_pos(pos):\n",
    "    if board_list[pos]==' ':\n",
    "            return True\n",
    "    else:\n",
    "        print (\"position already occupied!\")\n",
    "        return False"
   ]
  },
  {
   "cell_type": "code",
   "execution_count": 10,
   "metadata": {},
   "outputs": [],
   "source": [
    "# this func initialize all needed objects to play game!\n",
    "def welcome():\n",
    "    global char\n",
    "    global board_list\n",
    "    char=['@',' ',' ']\n",
    "    board_list=[' ']*10\n",
    "    print (\"Welcome to Tic Tac Toe game!\")\n",
    "    while char[1]!='x' and char[1]!='o':\n",
    "        print (\"Player 1: Which you want? (x/o)\")\n",
    "        char[1]=input()\n",
    "    if char[1] == 'x':\n",
    "        char[2] = 'o'\n",
    "    else:\n",
    "        char[2] = 'x'\n",
    "    print (\"Player_1 will go first\")\n",
    "    print_board()\n"
   ]
  },
  {
   "cell_type": "code",
   "execution_count": 11,
   "metadata": {},
   "outputs": [],
   "source": [
    "# this func uses to replay the game!\n",
    "def replay():\n",
    "    global count_steps\n",
    "    while True:\n",
    "        print (\"Do you want to continue?(yes/no)\")\n",
    "        ans=input()\n",
    "        if ans == 'yes':\n",
    "            count_steps=0\n",
    "            clear_output()\n",
    "            return True\n",
    "        elif ans == 'no':\n",
    "            return False"
   ]
  },
  {
   "cell_type": "code",
   "execution_count": 12,
   "metadata": {},
   "outputs": [],
   "source": [
    "# this func give turn to the player, and do require process!\n",
    "def turn(player):\n",
    "    global board_list\n",
    "    global count_steps\n",
    "    global char\n",
    "    while True:\n",
    "        print (\"Player {}: Choose position\".format(player))\n",
    "        pos=int(input())\n",
    "        if (pos not in range(1,10)):\n",
    "            print (\"Enter num between 1-9\")\n",
    "            continue\n",
    "        var=check_occ_pos(pos)\n",
    "        if var:\n",
    "            board_list[pos]=char[player]\n",
    "            count_steps+=1\n",
    "            break\n",
    "    print_board()"
   ]
  },
  {
   "cell_type": "code",
   "execution_count": null,
   "metadata": {},
   "outputs": [
    {
     "name": "stdout",
     "output_type": "stream",
     "text": [
      "1|2|3              | | \n",
      "-----             -----\n",
      "4|5|6              | | \n",
      "-----             -----\n",
      "7|8|9              | | \n",
      "Player 1: Choose position\n"
     ]
    }
   ],
   "source": [
    "# game_code Begins\n",
    "\n",
    "count_steps=0\n",
    "\n",
    "while(True):\n",
    "    # Initialize the objects!\n",
    "    if count_steps==0:\n",
    "        welcome()\n",
    "    \n",
    "    # It handles tie condition!\n",
    "    if count_steps>=9:\n",
    "        print (\"It`s tie!!!!!!!!\")\n",
    "        if replay():\n",
    "            continue\n",
    "        else:\n",
    "            break\n",
    "            \n",
    "    # gives turn to the player, if board is not feel fully!\n",
    "    if count_steps<9:\n",
    "        turn(1)\n",
    "        if check():\n",
    "            print (\"Congratulations!\")\n",
    "            print (\"Player 1 wins\")\n",
    "            if replay():\n",
    "                continue\n",
    "            else:\n",
    "                break\n",
    "    if count_steps<9:\n",
    "        turn(2)\n",
    "        if check():\n",
    "            print (\"Congratulations!\")\n",
    "            print (\"Player 2 wins\")\n",
    "            if replay():\n",
    "                continue\n",
    "            else:\n",
    "                break\n",
    "\n",
    "            "
   ]
  },
  {
   "cell_type": "markdown",
   "metadata": {},
   "source": []
  },
  {
   "cell_type": "code",
   "execution_count": null,
   "metadata": {},
   "outputs": [],
   "source": []
  },
  {
   "cell_type": "code",
   "execution_count": null,
   "metadata": {},
   "outputs": [],
   "source": []
  }
 ],
 "metadata": {
  "kernelspec": {
   "display_name": "Python 3",
   "language": "python",
   "name": "python3"
  },
  "language_info": {
   "codemirror_mode": {
    "name": "ipython",
    "version": 3
   },
   "file_extension": ".py",
   "mimetype": "text/x-python",
   "name": "python",
   "nbconvert_exporter": "python",
   "pygments_lexer": "ipython3",
   "version": "3.6.4"
  }
 },
 "nbformat": 4,
 "nbformat_minor": 2
}

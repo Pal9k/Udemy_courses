{
 "cells": [
  {
   "cell_type": "code",
   "execution_count": 11,
   "metadata": {},
   "outputs": [],
   "source": [
    "#                                              Numbers"
   ]
  },
  {
   "cell_type": "code",
   "execution_count": 10,
   "metadata": {},
   "outputs": [
    {
     "data": {
      "text/plain": [
       "1"
      ]
     },
     "execution_count": 10,
     "metadata": {},
     "output_type": "execute_result"
    }
   ],
   "source": [
    "#                                            Floor Divisions\n",
    "#Whoa! What just happened? Last time I checked, 7 divided by 4 equals 1.75 not 1!\n",
    "#The reason we get this result is because we are using \"floor\" division. \n",
    "#The // operator (two forward slashes) truncates the decimal without rounding, and returns an integer result.\n",
    "# Floor Division\n",
    "\n",
    "7//4"
   ]
  },
  {
   "cell_type": "code",
   "execution_count": 13,
   "metadata": {},
   "outputs": [],
   "source": [
    "#see Formatting_Text notebook"
   ]
  },
  {
   "cell_type": "code",
   "execution_count": 24,
   "metadata": {},
   "outputs": [
    {
     "name": "stdout",
     "output_type": "stream",
     "text": [
      "[1, 2, 3, 4, 5, 'new item']\n",
      "[1, 2, 3, 4, 5]\n",
      "After second item popped\n",
      "[1, 3, 4, 5]\n",
      "None\n",
      "[1, 3, 4, 5]\n",
      "None\n",
      "[5, 4, 3, 1]\n"
     ]
    }
   ],
   "source": [
    "#                                               lists\n",
    "#  This doesn't actually change the original list!\n",
    "my_list=[1,2,3,4,5]\n",
    "print(my_list + ['new item'])\n",
    "print (my_list)\n",
    "#Use pop to \"pop off\" an item from the list. \n",
    "#By default pop takes off the last index, but you can also specify which index to pop off. \n",
    "#Let's see an example:\n",
    "print (\"After second item popped\")\n",
    "my_list.pop(1)\n",
    "print (my_list)\n",
    "# Reverse and sort methos in list\n",
    "# sort and reverse dose not return anything\n",
    "print(my_list.sort())\n",
    "print (my_list)\n",
    "print(my_list.reverse())\n",
    "print(my_list)"
   ]
  },
  {
   "cell_type": "code",
   "execution_count": 27,
   "metadata": {},
   "outputs": [
    {
     "name": "stdout",
     "output_type": "stream",
     "text": [
      "dict_keys(['key1', 'key2', 'key3'])\n",
      "dict_values([1, 2, 3])\n",
      "dict_items([('key1', 1), ('key2', 2), ('key3', 3)])\n"
     ]
    }
   ],
   "source": [
    "#                                              Dictionary\n",
    "# Some methods of Dictionary\n",
    "d = {'key1':1,'key2':2,'key3':3}\n",
    "print(d.keys())\n",
    "print(d.values())\n",
    "print(d.items())"
   ]
  },
  {
   "cell_type": "code",
   "execution_count": 28,
   "metadata": {},
   "outputs": [],
   "source": [
    "#                                              Tupples\n",
    "# see tuples notebook"
   ]
  },
  {
   "cell_type": "code",
   "execution_count": 29,
   "metadata": {},
   "outputs": [],
   "source": [
    "#                                          Sets and Booleans\n",
    "# See notebook for the portion of only sets"
   ]
  },
  {
   "cell_type": "code",
   "execution_count": 30,
   "metadata": {},
   "outputs": [],
   "source": [
    "#                                              Files\n",
    "# see notebook of file"
   ]
  }
 ],
 "metadata": {
  "kernelspec": {
   "display_name": "Python 3",
   "language": "python",
   "name": "python3"
  },
  "language_info": {
   "codemirror_mode": {
    "name": "ipython",
    "version": 3
   },
   "file_extension": ".py",
   "mimetype": "text/x-python",
   "name": "python",
   "nbconvert_exporter": "python",
   "pygments_lexer": "ipython3",
   "version": "3.6.4"
  }
 },
 "nbformat": 4,
 "nbformat_minor": 2
}

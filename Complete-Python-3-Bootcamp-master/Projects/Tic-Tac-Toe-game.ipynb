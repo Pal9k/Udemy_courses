{
 "cells": [
  {
   "cell_type": "code",
   "execution_count": 14,
   "metadata": {},
   "outputs": [],
   "source": [
    "#                                       Tic-Toc-Toe game\n",
    "#                                       First Milestone Project"
   ]
  },
  {
   "cell_type": "code",
   "execution_count": 1,
   "metadata": {},
   "outputs": [],
   "source": [
    "from IPython.display import clear_output"
   ]
  },
  {
   "cell_type": "code",
   "execution_count": 2,
   "metadata": {},
   "outputs": [],
   "source": [
    "board_list = ['@',' ',' ',' ',' ',' ',' ',' ',' ',' ']\n",
    "char=['@',' ',' ']"
   ]
  },
  {
   "cell_type": "code",
   "execution_count": 3,
   "metadata": {},
   "outputs": [],
   "source": [
    "def init_board_list():\n",
    "    global board_list\n",
    "    for i in range (1,len(board_list),1):\n",
    "        board_list[i]=' '\n",
    "    return board_list"
   ]
  },
  {
   "cell_type": "code",
   "execution_count": 4,
   "metadata": {},
   "outputs": [],
   "source": [
    "def print_board():\n",
    "    global board_list\n",
    "    clear_output()\n",
    "    print(\"{}|{}|{}\".format(board_list[1],board_list[2],board_list[3]))\n",
    "    print(\"-----\")\n",
    "    print(\"{}|{}|{}\".format(board_list[4],board_list[5],board_list[6]))\n",
    "    print(\"-----\")\n",
    "    print(\"{}|{}|{}\".format(board_list[7],board_list[8],board_list[9]))"
   ]
  },
  {
   "cell_type": "code",
   "execution_count": 5,
   "metadata": {},
   "outputs": [],
   "source": [
    "def check():\n",
    "    global board_list\n",
    "    if check_parallel() == True:\n",
    "        return True\n",
    "    if check_verticle() == True:\n",
    "        return True\n",
    "    if check_diagonal() == True:\n",
    "        return True\n",
    "    return False"
   ]
  },
  {
   "cell_type": "code",
   "execution_count": 6,
   "metadata": {},
   "outputs": [],
   "source": [
    "def check_parallel():\n",
    "    global board_list\n",
    "    if (board_list[1]==board_list[2]==board_list[3]) and board_list[1]!=' ':\n",
    "        return True\n",
    "    if (board_list[4]==board_list[5]==board_list[6]) and board_list[4]!=' ':\n",
    "        return True\n",
    "    if (board_list[7]==board_list[8]==board_list[9]) and board_list[7]!=' ':\n",
    "        return True\n",
    "    return False"
   ]
  },
  {
   "cell_type": "code",
   "execution_count": 7,
   "metadata": {},
   "outputs": [],
   "source": [
    "def check_verticle():\n",
    "    global board_list\n",
    "    if (board_list[1]==board_list[4]==board_list[7]) and board_list[1]!=' ':\n",
    "        return True\n",
    "    if (board_list[2]==board_list[5]==board_list[8]) and board_list[2]!=' ':\n",
    "        return True\n",
    "    if (board_list[3]==board_list[6]==board_list[9]) and board_list[3]!=' ':\n",
    "        return True\n",
    "    return False"
   ]
  },
  {
   "cell_type": "code",
   "execution_count": 8,
   "metadata": {},
   "outputs": [],
   "source": [
    "def check_diagonal():\n",
    "    global board_list\n",
    "    if (board_list[3]==board_list[5]==board_list[7]) and board_list[3]!=' ':\n",
    "        return True\n",
    "    if (board_list[1]==board_list[5]==board_list[9]) and board_list[1]!=' ':\n",
    "        return True\n",
    "    return False"
   ]
  },
  {
   "cell_type": "code",
   "execution_count": 9,
   "metadata": {},
   "outputs": [],
   "source": [
    "def check_occ_pos(pos):\n",
    "    if board_list[pos]==' ':\n",
    "            return True\n",
    "    else:\n",
    "        print (\"position already occupied!\")\n",
    "        return False"
   ]
  },
  {
   "cell_type": "code",
   "execution_count": 10,
   "metadata": {},
   "outputs": [],
   "source": [
    "def welcome():\n",
    "    global char\n",
    "    init_board_list()\n",
    "    print (\"Welcome to Tic Tac Toe game!\")\n",
    "    print (\"Player 1: Which you want? (x/o)\")\n",
    "    char[1]=input()\n",
    "    if char[1] == 'x':\n",
    "        char[2] = 'o'\n",
    "    else:\n",
    "        char[2] = 'x'\n",
    "    print (\"Player_1 will go first\")\n",
    "    print_board()\n"
   ]
  },
  {
   "cell_type": "code",
   "execution_count": 11,
   "metadata": {},
   "outputs": [],
   "source": [
    "def replay():\n",
    "    global count_steps\n",
    "    print (\"Do you want to continue?(yes/no)\")\n",
    "    ans=input()\n",
    "    if ans == 'yes':\n",
    "        count_steps=0\n",
    "        clear_output()\n",
    "        return True\n",
    "    else:\n",
    "        return False"
   ]
  },
  {
   "cell_type": "code",
   "execution_count": 12,
   "metadata": {},
   "outputs": [],
   "source": [
    "def turn(player):\n",
    "    global count_steps\n",
    "    global char\n",
    "    print (\"Player {}: Choose position\".format(player))\n",
    "    pos=int(input())\n",
    "    if check_occ_pos(pos):\n",
    "        board_list[pos]=char[player]\n",
    "        count_steps+=1\n",
    "    print_board()"
   ]
  },
  {
   "cell_type": "code",
   "execution_count": 13,
   "metadata": {},
   "outputs": [
    {
     "name": "stdout",
     "output_type": "stream",
     "text": [
      "o|x|o\n",
      "-----\n",
      "x|o|x\n",
      "-----\n",
      "o| | \n",
      "Congratulations!\n",
      "Player 1 wins\n",
      "Do you want to continue?(yes/no)\n",
      "no\n"
     ]
    }
   ],
   "source": [
    "# game_code Begins\n",
    "\n",
    "count_steps=0\n",
    "\n",
    "while(True):\n",
    "    \n",
    "    if count_steps==0:\n",
    "        welcome()\n",
    "    \n",
    "    if count_steps>=9:\n",
    "        print (\"It`s tie!!!!!!!!\")\n",
    "        if replay():\n",
    "            continue\n",
    "        else:\n",
    "            break\n",
    "    if count_steps<9:\n",
    "        turn(1)\n",
    "        if check():\n",
    "            print (\"Congratulations!\")\n",
    "            print (\"Player 1 wins\")\n",
    "            if replay():\n",
    "                continue\n",
    "            else:\n",
    "                break\n",
    "    if count_steps<9:\n",
    "        turn(2)\n",
    "        if check():\n",
    "            print (\"Congratulations!\")\n",
    "            print (\"Player 2 wins\")\n",
    "            if replay():\n",
    "                continue\n",
    "            else:\n",
    "                break\n",
    "\n",
    "            "
   ]
  },
  {
   "cell_type": "code",
   "execution_count": null,
   "metadata": {},
   "outputs": [],
   "source": []
  },
  {
   "cell_type": "code",
   "execution_count": null,
   "metadata": {},
   "outputs": [],
   "source": []
  },
  {
   "cell_type": "code",
   "execution_count": null,
   "metadata": {},
   "outputs": [],
   "source": []
  }
 ],
 "metadata": {
  "kernelspec": {
   "display_name": "Python 3",
   "language": "python",
   "name": "python3"
  },
  "language_info": {
   "codemirror_mode": {
    "name": "ipython",
    "version": 3
   },
   "file_extension": ".py",
   "mimetype": "text/x-python",
   "name": "python",
   "nbconvert_exporter": "python",
   "pygments_lexer": "ipython3",
   "version": "3.6.4"
  }
 },
 "nbformat": 4,
 "nbformat_minor": 2
}
